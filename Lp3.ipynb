{
  "nbformat": 4,
  "nbformat_minor": 0,
  "metadata": {
    "colab": {
      "name": "Lp3.ipynb",
      "version": "0.3.2",
      "provenance": [],
      "collapsed_sections": [
        "nacGMmOw2UJN",
        "LUpcRIWM2YdF",
        "Umtn2r0c2ecG",
        "0wyDN3v31NJo"
      ],
      "toc_visible": true
    },
    "kernelspec": {
      "name": "python3",
      "display_name": "Python 3"
    }
  },
  "cells": [
    {
      "metadata": {
        "id": "gonKxTwr0p00",
        "colab_type": "text"
      },
      "cell_type": "markdown",
      "source": [
        "# Machine Learning"
      ]
    },
    {
      "metadata": {
        "id": "akkrS54m2PjB",
        "colab_type": "text"
      },
      "cell_type": "markdown",
      "source": [
        "# KNN"
      ]
    },
    {
      "metadata": {
        "id": "2t438zDS0P23",
        "colab_type": "code",
        "cellView": "both",
        "outputId": "365dfafa-9e00-40c4-feaf-34b2926edf1f",
        "colab": {
          "base_uri": "https://localhost:8080/",
          "height": 118
        }
      },
      "cell_type": "code",
      "source": [
        "#@title KNN-11\n",
        "#import Packages\n",
        "import numpy as np\n",
        "import pandas as pd\n",
        "from sklearn import metrics\n",
        "#Read Dataset\n",
        "dataset=pd.read_csv(\"knntissuepaper.csv\")\n",
        "X=dataset.iloc[:,:-1].values\n",
        "y=dataset.iloc[:,2].values\n",
        "\n",
        "#import KNeighborsClassifier and create object of it\n",
        "from sklearn.neighbors import KNeighborsClassifier\n",
        "classifier=KNeighborsClassifier(n_neighbors=3)\n",
        "classifier.fit(X,y)\n",
        "\n",
        "#Use below two to get accuracy for k\n",
        "y_pred=classifier.predict(X)\n",
        "print(\"Accuracy for k: \",metrics.accuracy_score(y, y_pred))\n",
        "\n",
        "\n",
        "#predict class for the points(3,7)\n",
        "X_test=np.array([3,7])\n",
        "print(X_test)\n",
        "y_pred=classifier.predict([X_test])\n",
        "print('General KNN:', y_pred) \n",
        "\n",
        "classifier=KNeighborsClassifier(n_neighbors=3, weights='distance')\n",
        "classifier.fit(X,y)\n"
      ],
      "execution_count": 0,
      "outputs": [
        {
          "output_type": "stream",
          "text": [
            "Accuracy for k:  1.0\n",
            "[3 7]\n",
            "General KNN: ['Good']\n"
          ],
          "name": "stdout"
        },
        {
          "output_type": "execute_result",
          "data": {
            "text/plain": [
              "KNeighborsClassifier(algorithm='auto', leaf_size=30, metric='minkowski',\n",
              "           metric_params=None, n_jobs=None, n_neighbors=3, p=2,\n",
              "           weights='distance')"
            ]
          },
          "metadata": {
            "tags": []
          },
          "execution_count": 11
        }
      ]
    },
    {
      "metadata": {
        "id": "Cv80v0gs04BP",
        "colab_type": "code",
        "cellView": "both",
        "outputId": "75ea449d-90fb-4970-bdc4-9c9fda900488",
        "colab": {
          "base_uri": "https://localhost:8080/",
          "height": 67
        }
      },
      "cell_type": "code",
      "source": [
        "#@title KNN-9\n",
        "#import Packages\n",
        "import numpy as np\n",
        "import pandas as pd\n",
        "from sklearn import metrics\n",
        "import matplotlib.pyplot as plt\n",
        "\n",
        "#Read Dataset\n",
        "dataset=pd.read_csv(\"knndata.csv\")\n",
        "X=dataset.iloc[:,:-1].values\n",
        "y=dataset.iloc[:,2].values\n",
        "\n",
        "\n",
        "#import KNeighborsClassifier and create object of it\n",
        "from sklearn.neighbors import KNeighborsClassifier\n",
        "classifier=KNeighborsClassifier(n_neighbors=4)\n",
        "classifier.fit(X,y)\n",
        "y_pred=classifier.predict(X)\n",
        "print(metrics.accuracy_score(y, y_pred))\n",
        "\n",
        "#predict class for the points(6,6)\n",
        "X_test=np.array([6,6])\n",
        "print(X_test)\n",
        "y_pred=classifier.predict([X_test])\n",
        "print('General KNN:', y_pred) \n",
        "\n"
      ],
      "execution_count": 0,
      "outputs": [
        {
          "output_type": "stream",
          "text": [
            "0.6666666666666666\n",
            "[6 6]\n",
            "General KNN: ['negative']\n"
          ],
          "name": "stdout"
        }
      ]
    },
    {
      "metadata": {
        "id": "Kn8Ohm0lVpNJ",
        "colab_type": "code",
        "cellView": "both",
        "outputId": "d09a2f61-da57-4bd2-94ce-3de0bcf01f33",
        "colab": {
          "base_uri": "https://localhost:8080/",
          "height": 269
        }
      },
      "cell_type": "code",
      "source": [
        "#@title Plot knn data points \n",
        "import numpy as np\n",
        "import matplotlib.pyplot as plt\n",
        "from matplotlib.colors import ListedColormap\n",
        "from sklearn import neighbors, datasets\n",
        "from sklearn.model_selection import train_test_split\n",
        "from sklearn import metrics \n",
        "\n",
        "n_neighbors = 5\n",
        "\n",
        "\n",
        "iris = datasets.load_iris()\n",
        " \n",
        "\n",
        "# we only take the first two features\n",
        "X = iris.data[:, :2]\n",
        "y = iris.target\n",
        "# weights can be ['uniform', 'distance']\n",
        "# we again create an instance of Neighbours Classifier and fit the data.\n",
        "clf = neighbors.KNeighborsClassifier(n_neighbors, weights='distance')\n",
        "clf.fit(X, y)\n",
        "h = .02  # step size in the mesh\n",
        "\n",
        "# Create color maps\n",
        "cmap_light = ListedColormap(['#FFAAAA', '#AAFFAA', '#AAAAFF'])\n",
        "cmap_bold = ListedColormap(['#FF0000', '#00FF00', '#0000FF'])\n",
        "\n",
        "\n",
        "# Plot the training points\n",
        "plt.scatter(X[:, 0], X[:, 1], c=y, cmap=cmap_bold, s=20)\n",
        "plt.xlim(xx.min(), xx.max())\n",
        "plt.ylim(yy.min(), yy.max())\n",
        "plt.show()\n",
        "    \n",
        "#Uncomment following code to plot decision boundary based on knn(if asked)  \n",
        "#     # Plot the decision boundary. For that, we will assign a color to each\n",
        "#     # point in the mesh [x_min, x_max]x[y_min, y_max].\n",
        "#     x_min, x_max = X[:, 0].min() - 1, X[:, 0].max() + 1\n",
        "#     y_min, y_max = X[:, 1].min() - 1, X[:, 1].max() + 1\n",
        "#     xx, yy = np.meshgrid(np.arange(x_min, x_max, h),\n",
        "#                          np.arange(y_min, y_max, h))\n",
        "#     Z = clf.predict(np.c_[xx.ravel(), yy.ravel()])\n",
        "\n",
        "#     # Put the result into a color plot\n",
        "#     Z = Z.reshape(xx.shape)\n",
        "#     plt.figure()\n",
        "#     plt.pcolormesh(xx, yy, Z, cmap=cmap_light)\n",
        "#     plt.title(\"3-Class classification (k = %i, weights = '%s')\"% (n_neighbors, weights))\n",
        "#     plt.show()\n",
        "    \n",
        "    \n",
        "\n"
      ],
      "execution_count": 0,
      "outputs": [
        {
          "output_type": "display_data",
          "data": {
            "image/png": "[encoded data removed]",
            "text/plain": [
              "<Figure size 432x288 with 1 Axes>"
            ]
          },
          "metadata": {
            "tags": []
          }
        }
      ]
    },
    {
      "metadata": {
        "id": "nacGMmOw2UJN",
        "colab_type": "text"
      },
      "cell_type": "markdown",
      "source": [
        "# Decision Tree"
      ]
    },
    {
      "metadata": {
        "id": "Xp2ZjjYx1Aqs",
        "colab_type": "code",
        "outputId": "8c8bad84-1719-467c-e7c5-a6a39816e8f0",
        "colab": {
          "base_uri": "https://localhost:8080/",
          "height": 50
        },
        "cellView": "both"
      },
      "cell_type": "code",
      "source": [
        "#@title 8 Decision Tree\n",
        "import pandas as pd\n",
        "from sklearn.tree import DecisionTreeClassifier\n",
        "from sklearn.preprocessing import LabelEncoder\n",
        "from sklearn.model_selection import train_test_split\n",
        "\n",
        "df = pd.read_csv('buy_data.csv')\n",
        "df = df.apply(LabelEncoder().fit_transform)\n",
        "\n",
        "X, y = df.drop('Buys', axis=1), df['Buys']\n",
        "train_x, test_x, train_y ,test_y = train_test_split(X, y, test_size=0.2, random_state=1)\n",
        "\n",
        "classifier = DecisionTreeClassifier()\n",
        "classifier.fit(train_x, train_y)\n",
        "print(f'Score is: {classifier.score(test_x, test_y)*100:.2f}%')\n",
        "\n",
        "from sklearn.tree import export_graphviz\n",
        "export_graphviz(classifier, out_file='tree.dot')\n",
        "from sklearn.externals.six import StringIO  \n",
        "from IPython.display import Image  \n",
        "from sklearn.tree import export_graphviz\n",
        "import pydotplus\n",
        "\n",
        "dot_data = StringIO()\n",
        "\n",
        "export_graphviz(classifier, out_file=dot_data, filled=True, rounded=True, special_characters=True)\n",
        "\n",
        "graph = pydotplus.graph_from_dot_data(dot_data.getvalue()) \n",
        "graph.write_png('prob10.png')\n"
      ],
      "execution_count": 0,
      "outputs": [
        {
          "output_type": "stream",
          "text": [
            "Score is: 66.67%\n"
          ],
          "name": "stdout"
        },
        {
          "output_type": "execute_result",
          "data": {
            "text/plain": [
              "True"
            ]
          },
          "metadata": {
            "tags": []
          },
          "execution_count": 13
        }
      ]
    },
    {
      "metadata": {
        "id": "LUpcRIWM2YdF",
        "colab_type": "text"
      },
      "cell_type": "markdown",
      "source": [
        "# Linear Regression"
      ]
    },
    {
      "metadata": {
        "id": "cy6Dw7fD1hQB",
        "colab_type": "code",
        "cellView": "code",
        "outputId": "91cb1b1c-d456-4f57-b661-ded24e51db91",
        "colab": {
          "base_uri": "https://localhost:8080/",
          "height": 67
        }
      },
      "cell_type": "code",
      "source": [
        "#@title 7\n",
        "import numpy as np\n",
        "from sklearn.linear_model import LinearRegression, Ridge, Lasso\n",
        "from sklearn.model_selection import cross_val_score\n",
        "from sklearn.datasets import load_boston\n",
        "\n",
        "X = load_boston()['data']\n",
        "\n",
        "y = load_boston()['target']\n",
        "# read a custom csv file by importing pandas and using pd.read_csv(\"txt.csv\")\n",
        "lr = LinearRegression()\n",
        "cscores = cross_val_score(lr, X, y, cv=5)\n",
        "lr.fit(X,y)\n",
        "print('Cross Val Score for Linear Regression is ' + str(round(cscores.mean()*100, 2))+', Accuracy score is: '+str(round(lr.score(X,y)*100, 2)))\n",
        "\n",
        "\n",
        "\n",
        "lrr = Ridge()\n",
        "cscores = cross_val_score(lrr, X, y, cv=5)\n",
        "lrr.fit(X,y)\n",
        "print('Cross Val Score for Ridge Regression is ' + str(round(cscores.mean()*100, 2))+', Accuracy score is: '+str(round(lrr.score(X,y)*100, 2)))\n",
        "\n",
        "lrl = Lasso()\n",
        "cscores = cross_val_score(lrl, X, y, cv=5)\n",
        "lrl.fit(X,y)\n",
        "print('Cross Val Score for Lasso Regression is ' + str(round(cscores.mean()*100, 2))+', Accuracy score is: '+str(round(lrl.score(X,y)*100, 2)))\n"
      ],
      "execution_count": 0,
      "outputs": [
        {
          "output_type": "stream",
          "text": [
            "Cross Val Score for Linear Regression is 35.33, Accuracy score is: 74.06\n",
            "Cross Val Score for Ridge Regression is 38.92, Accuracy score is: 73.89\n",
            "Cross Val Score for Lasso Regression is 43.18, Accuracy score is: 68.26\n"
          ],
          "name": "stdout"
        }
      ]
    },
    {
      "metadata": {
        "id": "o-WIlWQ01hTs",
        "colab_type": "code",
        "cellView": "code",
        "outputId": "84c36c89-a959-462b-cb2d-282d3055c939",
        "colab": {
          "base_uri": "https://localhost:8080/",
          "height": 70
        }
      },
      "cell_type": "code",
      "source": [
        "#@title 6\n",
        "import numpy as np\n",
        "from sklearn.model_selection import cross_val_score\n",
        "from sklearn.linear_model import LinearRegression\n",
        "from sklearn.datasets import load_boston\n",
        "import matplotlib.pyplot as plt\n",
        "\n",
        "X = load_boston()['data']\n",
        "\n",
        "y = load_boston()['target']\n",
        "\n",
        "lr = LinearRegression()\n",
        "lr.fit(X, y)\n",
        "cscores = cross_val_score(lr, X, y, cv=5)\n",
        "print('Cross Val Score for Linear Regression is ' + str(round(cscores.mean()*100, 2))+', Accuracy score is: '+str(round(lr.score(X,y)*100, 2)))\n",
        "\n",
        "equation = []\n",
        "for i, coef in enumerate(lr.coef_):\n",
        "    equation.append('(' + str(round(coef, 2)) + ')*x' + str(i+1))\n",
        "\n",
        "print('Line equation is ' + ' + '.join(equation) + ' + (' + str(round(lr.intercept_, 2)) + ')')\n"
      ],
      "execution_count": 0,
      "outputs": [
        {
          "output_type": "stream",
          "text": [
            "Cross Val Score for Linear Regression is 35.33, Accuracy score is: 74.06\n",
            "Line equation is (-0.11)*x1 + (0.05)*x2 + (0.02)*x3 + (2.69)*x4 + (-17.77)*x5 + (3.81)*x6 + (0.0)*x7 + (-1.48)*x8 + (0.31)*x9 + (-0.01)*x10 + (-0.95)*x11 + (0.01)*x12 + (-0.52)*x13 + (36.46)\n"
          ],
          "name": "stdout"
        }
      ]
    },
    {
      "metadata": {
        "id": "tR1bkYOL1hXy",
        "colab_type": "code",
        "cellView": "code",
        "outputId": "39639531-d6bc-46cc-e2a2-59fbd337c9e8",
        "colab": {
          "base_uri": "https://localhost:8080/",
          "height": 302
        }
      },
      "cell_type": "code",
      "source": [
        "#@title 5-LR\n",
        "import numpy as np\n",
        "from sklearn.linear_model import LinearRegression\n",
        "import matplotlib.pyplot as plt\n",
        "\n",
        "# Creating the points in numpy\n",
        "X = np.array([\n",
        "    [10],\n",
        "    [9],\n",
        "    [2],\n",
        "    [15],\n",
        "    [10],\n",
        "    [16],\n",
        "    [11],\n",
        "    [16]\n",
        "])\n",
        "\n",
        "y = np.array([\n",
        "    [95],\n",
        "    [80],\n",
        "    [10],\n",
        "    [50],\n",
        "    [45],\n",
        "    [98],\n",
        "    [38],\n",
        "    [93]\n",
        "])\n",
        "\n",
        "lr = LinearRegression()\n",
        "lr.fit(X, y)\n",
        "\n",
        "print(' Accuracy score is: '+str(round(lr.score(X,y)*100, 2)))\n",
        "\n",
        "plt.scatter(X, y, color='black')\n",
        "plt.plot(X, lr.predict(X), color='blue', linewidth=3)\n",
        "plt.show()\n",
        "\n",
        "print('Line equation is ' + str(round(lr.coef_[0][0], 2)) + '*x + (' + str(round(lr.intercept_[0], 2)) + ')')\n"
      ],
      "execution_count": 0,
      "outputs": [
        {
          "output_type": "stream",
          "text": [
            " Accuracy score is: 43.71\n"
          ],
          "name": "stdout"
        },
        {
          "output_type": "display_data",
          "data": {
            "image/png": "[encoded data removed]",
            "text/plain": [
              "<Figure size 432x288 with 1 Axes>"
            ]
          },
          "metadata": {
            "tags": []
          }
        },
        {
          "output_type": "stream",
          "text": [
            "Line equation is 4.59*x + (12.58)\n"
          ],
          "name": "stdout"
        }
      ]
    },
    {
      "metadata": {
        "id": "Umtn2r0c2ecG",
        "colab_type": "text"
      },
      "cell_type": "markdown",
      "source": [
        "# KMeans"
      ]
    },
    {
      "metadata": {
        "id": "V2-Uf7h91vP0",
        "colab_type": "code",
        "cellView": "code",
        "outputId": "5043c036-bbfa-4c7c-ab22-3d37e5b36fdd",
        "colab": {
          "base_uri": "https://localhost:8080/",
          "height": 564
        }
      },
      "cell_type": "code",
      "source": [
        "#@title 4\n",
        "import numpy as np\n",
        "from sklearn.cluster import KMeans\n",
        "import matplotlib.pyplot as plt\n",
        "\n",
        "# Creating the points in numpy\n",
        "X = np.array([\n",
        "    [1.0, 1.0],\n",
        "    [1.5, 2.0],\n",
        "    [3.0, 4.0],\n",
        "    [5.0, 7.0],\n",
        "    [3.5, 5.0],\n",
        "    [4.5, 5.0],\n",
        "    [3.5, 4.5]\n",
        "])\n",
        "#for random centroids use KMeans(n_clusters= k,init='random')\n",
        "kmeans = KMeans(n_clusters=2, init=np.array([[0.1, 0.6], [0.3, 0.2]]), n_init=1)\n",
        "kmeans.fit(X)\n",
        "\n",
        "plt.scatter(X[:, 0], X[:, 1], c=kmeans.labels_, s=50, cmap='viridis')\n",
        "\n",
        "centers = kmeans.cluster_centers_\n",
        "plt.scatter(centers[:, 0], centers[:, 1], c='black', s=200, alpha=0.5)\n",
        "plt.show()\n",
        "\n",
        "print('Refer graph for best K for this dataset')\n",
        "\n",
        "sum_of_squared_distances = []\n",
        "for k in range(1, 8):\n",
        "    km = KMeans(n_clusters=k)\n",
        "    km.fit(X)\n",
        "    sum_of_squared_distances.append(km.inertia_)\n",
        "\n",
        "plt.plot(range(1, 8), sum_of_squared_distances, 'bx-')\n",
        "plt.xlabel('k')\n",
        "plt.ylabel('Sum_of_squared_distances')\n",
        "plt.title('Elbow Method For Optimal K')\n",
        "plt.show()\n"
      ],
      "execution_count": 0,
      "outputs": [
        {
          "output_type": "display_data",
          "data": {
            "image/png": "[encoded data removed]",
            "text/plain": [
              "<Figure size 432x288 with 1 Axes>"
            ]
          },
          "metadata": {
            "tags": []
          }
        },
        {
          "output_type": "stream",
          "text": [
            "Refer graph for best K for this dataset\n"
          ],
          "name": "stdout"
        },
        {
          "output_type": "display_data",
          "data": {
            "image/png": "[encoded data removed]",
            "text/plain": [
              "<Figure size 432x288 with 1 Axes>"
            ]
          },
          "metadata": {
            "tags": []
          }
        }
      ]
    },
    {
      "metadata": {
        "id": "cFLtiHjd1vVi",
        "colab_type": "code",
        "cellView": "code",
        "outputId": "8490a9fb-e04f-49c9-8fa7-7741a2cebf1f",
        "colab": {
          "base_uri": "https://localhost:8080/",
          "height": 598
        }
      },
      "cell_type": "code",
      "source": [
        "#@title 3\n",
        "import numpy as np\n",
        "from sklearn.cluster import KMeans\n",
        "from sklearn.datasets import load_boston\n",
        "import matplotlib.pyplot as plt\n",
        "\n",
        "X = load_boston()['data']\n",
        "\n",
        "print('Refer graph for best K for this dataset')\n",
        "\n",
        "sum_of_squared_distances = []\n",
        "for k in range(1, 9):\n",
        "    km = KMeans(n_clusters=k)#for random centroids use KMeans(n_clusters= k,init='random')\n",
        "    km.fit(X)\n",
        "    sum_of_squared_distances.append(km.inertia_)\n",
        "\n",
        "plt.plot(range(1, 9), sum_of_squared_distances, 'bx-')\n",
        "plt.xlabel('k')\n",
        "plt.ylabel('Sum_of_squared_distances')\n",
        "plt.title('Elbow Method For Optimal K')\n",
        "plt.show()\n",
        "\n",
        "k = int(input('Enter the optimal K selected from graph: '))\n",
        "\n",
        "km = KMeans(n_clusters=k,init = 'random' ,max_iter=500)\n",
        "km.fit(X)\n",
        "\n",
        "plt.scatter(X[:, 1], X[:, 2], c=km.labels_, s=50, cmap='viridis')\n",
        "\n",
        "centers = km.cluster_centers_\n",
        "plt.scatter(centers[:, 4], centers[:, 5], c='black', s=200, alpha=0.5)\n"
      ],
      "execution_count": 0,
      "outputs": [
        {
          "output_type": "stream",
          "text": [
            "Refer graph for best K for this dataset\n"
          ],
          "name": "stdout"
        },
        {
          "output_type": "display_data",
          "data": {
            "image/png": "[encoded data removed]",
            "text/plain": [
              "<Figure size 432x288 with 1 Axes>"
            ]
          },
          "metadata": {
            "tags": []
          }
        },
        {
          "output_type": "stream",
          "text": [
            "Enter the optimal K selected from graph: 3\n"
          ],
          "name": "stdout"
        },
        {
          "output_type": "execute_result",
          "data": {
            "text/plain": [
              "<matplotlib.collections.PathCollection at 0x7f23910a7240>"
            ]
          },
          "metadata": {
            "tags": []
          },
          "execution_count": 23
        },
        {
          "output_type": "display_data",
          "data": {
            "image/png": "[encoded data removed]",
            "text/plain": [
              "<Figure size 432x288 with 1 Axes>"
            ]
          },
          "metadata": {
            "tags": []
          }
        }
      ]
    },
    {
      "metadata": {
        "id": "W7FblMlM1vbJ",
        "colab_type": "code",
        "cellView": "code",
        "outputId": "e6b63c14-b294-49e7-8a7e-c5bd7251f1bb",
        "colab": {
          "base_uri": "https://localhost:8080/",
          "height": 598
        }
      },
      "cell_type": "code",
      "source": [
        "#@title 2\n",
        "import numpy as np\n",
        "from sklearn.cluster import KMeans\n",
        "from sklearn.datasets import load_iris\n",
        "import matplotlib.pyplot as plt\n",
        "\n",
        "X = load_iris()['data']\n",
        "#print(X)\n",
        "print('Refer graph for best K for this dataset')\n",
        "\n",
        "sum_of_squared_distances = []\n",
        "for k in range(1, 9):\n",
        "    km = KMeans(n_clusters=k,init='random')\n",
        "    km.fit(X)\n",
        "    sum_of_squared_distances.append(km.inertia_)\n",
        "\n",
        "plt.plot(range(1, 9), sum_of_squared_distances, 'bx-')\n",
        "plt.xlabel('k')\n",
        "plt.ylabel('Sum_of_squared_distances')\n",
        "plt.title('Elbow Method For Optimal K')\n",
        "plt.show()\n",
        "\n",
        "k = int(input('Enter the optimal K selected from graph: '))\n",
        "\n",
        "km = KMeans(n_clusters=k,init='random' ,max_iter=500)\n",
        "km.fit(X)\n",
        "\n",
        "plt.scatter(X[:, 0], X[:, 1], c=km.labels_, s=50, cmap='viridis')\n",
        "\n",
        "centers = km.cluster_centers_\n",
        "plt.scatter(centers[:, 0], centers[:, 1], c='black', s=200, alpha=0.5)\n"
      ],
      "execution_count": 0,
      "outputs": [
        {
          "output_type": "stream",
          "text": [
            "Refer graph for best K for this dataset\n"
          ],
          "name": "stdout"
        },
        {
          "output_type": "display_data",
          "data": {
            "image/png": "[encoded data removed]",
            "text/plain": [
              "<Figure size 432x288 with 1 Axes>"
            ]
          },
          "metadata": {
            "tags": []
          }
        },
        {
          "output_type": "stream",
          "text": [
            "Enter the optimal K selected from graph: 3\n"
          ],
          "name": "stdout"
        },
        {
          "output_type": "execute_result",
          "data": {
            "text/plain": [
              "<matplotlib.collections.PathCollection at 0x7f2390db5d30>"
            ]
          },
          "metadata": {
            "tags": []
          },
          "execution_count": 27
        },
        {
          "output_type": "display_data",
          "data": {
            "image/png": "[encoded data removed]",
            "text/plain": [
              "<Figure size 432x288 with 1 Axes>"
            ]
          },
          "metadata": {
            "tags": []
          }
        }
      ]
    },
    {
      "metadata": {
        "id": "0L6HKXX61vi8",
        "colab_type": "code",
        "cellView": "code",
        "outputId": "7815887b-4562-4be3-9d50-7ef7d24e15ae",
        "colab": {
          "base_uri": "https://localhost:8080/",
          "height": 379
        }
      },
      "cell_type": "code",
      "source": [
        "#@title 1\n",
        "import numpy as np\n",
        "from sklearn.cluster import KMeans\n",
        "import matplotlib.pyplot as plt\n",
        "\n",
        "# Creating the points in numpy\n",
        "X = np.array([\n",
        "    [0.1, 0.6],\n",
        "    [0.15, 0.71],\n",
        "    [0.08, 0.9],\n",
        "    [0.16, 0.85],\n",
        "    [0.2, 0.3],\n",
        "    [0.25, 0.5],\n",
        "    [0.24, 0.1],\n",
        "    [0.3, 0.2]\n",
        "])\n",
        "#for random centroids use KMeans(n_clusters= k,init='random')\n",
        "kmeans = KMeans(n_clusters=2, init=np.array([[0.1, 0.6], [0.3, 0.2]]), n_init=1)\n",
        "kmeans.fit(X)\n",
        "\n",
        "print('P6 belongs to cluster number ' + str(kmeans.labels_[5]))\n",
        "labels = list(kmeans.labels_)\n",
        "print('M2 has ' + str(labels.count(1)) + ' points in its cluster')\n",
        "print('M1 is (' + str(kmeans.cluster_centers_[0][0]) + ', ' + str(kmeans.cluster_centers_[0][1]) + ')')\n",
        "print('M2 is (' + str(kmeans.cluster_centers_[1][0]) + ', ' + str(kmeans.cluster_centers_[1][1]) + ')')\n",
        "\n",
        "\n",
        "print('Refer graph for best K for this dataset')\n",
        "\n",
        "sum_of_squared_distances = []\n",
        "for k in range(1, 9):\n",
        "    km = KMeans(n_clusters=k)\n",
        "    km.fit(X)\n",
        "    sum_of_squared_distances.append(km.inertia_)\n",
        "\n",
        "plt.plot(range(1, 9), sum_of_squared_distances, 'bx-')\n",
        "plt.xlabel('k')\n",
        "plt.ylabel('Sum_of_squared_distances')\n",
        "plt.title('Elbow Method For Optimal K')\n",
        "plt.show()\n"
      ],
      "execution_count": 0,
      "outputs": [
        {
          "output_type": "stream",
          "text": [
            "P6 belongs to cluster number 0\n",
            "M2 has 3 points in its cluster\n",
            "M1 is (0.14800000000000002, 0.712)\n",
            "M2 is (0.24666666666666667, 0.19999999999999996)\n",
            "Refer graph for best K for this dataset\n"
          ],
          "name": "stdout"
        },
        {
          "output_type": "display_data",
          "data": {
            "image/png": "[encoded data removed]",
            "text/plain": [
              "<Figure size 432x288 with 1 Axes>"
            ]
          },
          "metadata": {
            "tags": []
          }
        }
      ]
    },
    {
      "metadata": {
        "id": "0wyDN3v31NJo",
        "colab_type": "text"
      },
      "cell_type": "markdown",
      "source": [
        "# Information & Cyber Security"
      ]
    },
    {
      "metadata": {
        "id": "n2Ytiq6sx5Za",
        "colab_type": "code",
        "outputId": "4e4d7aa4-aeeb-4ea2-ea87-45b4287d9e12",
        "cellView": "code",
        "colab": {
          "base_uri": "https://localhost:8080/",
          "height": 188
        }
      },
      "cell_type": "code",
      "source": [
        "#@title DiffieHellman\n",
        "def isprimitiveroot(q,a):\n",
        "\treturn sorted([(a**i)%q for i in range(1,q)]) == list(range(1,q))\n",
        "\n",
        "q = int(input(\"Enter a prime no: \") )\n",
        "while True : \n",
        "\ta = int( input(\"Enter its primitive root : \") ) \n",
        "\tif isprimitiveroot(q,a) :\n",
        "\t\tbreak\n",
        "\tprint(a,\"is not primitive root of\",q)\n",
        "\tprint(\"Please Enter again\") \n",
        "\n",
        "xA =  int(input(\"Enter private key of A:\") )\n",
        "yA =  (a**xA) % q \n",
        "\n",
        "xB =  int(input(\"Enter private key of B:\") )\n",
        "yB =  (a**xB) % q \n",
        "\n",
        "#Calculation of Secret Key by user A\n",
        "kA =  (yB**xA) % q \n",
        "\n",
        "#Calculation of Secret Key by user B\n",
        "kB =  (yA**xB) % q \n",
        "\n",
        "print(\"Public key of A:\",yA)\n",
        "print(\"Private key of B:\",yB)\n",
        "\n",
        "print(\"Key calculated at A side:\",kA)\n",
        "print(\"Key calculated at B side:\",kB)\n",
        "\n",
        "'''\n",
        "Sample Input: \n",
        "\n",
        "Enter a prime no: 353\n",
        "Enter its primitive root : 3\n",
        "Enter private key of A:97\n",
        "Enter private key of B:233\n",
        "Public key of A: 40\n",
        "Private key of B: 248\n",
        "Key calculated at A side: 160\n",
        "Key calculated at B side: 160\n",
        "'''\n"
      ],
      "execution_count": 0,
      "outputs": [
        {
          "output_type": "stream",
          "text": [
            "Enter a prime no: 353\n",
            "Enter its primitive root : 3\n",
            "Enter private key of A:97\n",
            "Enter private key of B:233\n",
            "Public key of A: 40\n",
            "Private key of B: 248\n",
            "Key calculated at A side: 160\n",
            "Key calculated at B side: 160\n"
          ],
          "name": "stdout"
        },
        {
          "output_type": "execute_result",
          "data": {
            "text/plain": [
              "'\\nSample Input: \\n\\nEnter a prime no: 353\\nEnter its primitive root : 3\\nEnter private key of A:97\\nEnter private key of B:233\\nPublic key of A: 40\\nPrivate key of B: 248\\nKey calculated at A side: 160\\nKey calculated at B side: 160\\n'"
            ]
          },
          "metadata": {
            "tags": []
          },
          "execution_count": 21
        }
      ]
    },
    {
      "metadata": {
        "id": "aUOKrvV9y4m4",
        "colab_type": "code",
        "outputId": "18643248-356f-424e-bea7-ae86cae205e7",
        "cellView": "code",
        "colab": {
          "base_uri": "https://localhost:8080/",
          "height": 134
        }
      },
      "cell_type": "code",
      "source": [
        "#@title RSA\n",
        "from math import *\n",
        "def gcd(a,b):\n",
        "\tif b==0:\n",
        "\t\treturn a\n",
        "\treturn gcd(b,a%b)\n",
        "\t\n",
        "def modularInverse(e,phiN):\n",
        "\tk = 1 \n",
        "\twhile (phiN*k + 1)%e !=0 : \n",
        "\t\tk+=1 \n",
        "\treturn (phiN*k+1)//e \n",
        "\n",
        "p = int(input(\"Enter prime no 1:\"))\n",
        "q = int(input(\"Enter prime no 2:\"))\n",
        "n = p * q \n",
        "phiN = (p-1) * (q-1)\n",
        "\n",
        "for num in range(2,phiN):\n",
        "\tif gcd(num,phiN) == 1: \n",
        "\t\te = num\n",
        "\t\tbreak\n",
        "print(\"Public key for encryption\",e)\n",
        "d = modularInverse(e,phiN)\n",
        "print(\"Public key for decryption\",d)\n",
        "m = int(input(\"Enter message:\"))\n",
        "c = m**e%n\n",
        "print(\"Cipher after encryption:\" , c) \n",
        "\n",
        "dm = c**d%n\n",
        "print(\"Orig message after decrytpion:\",dm)\n",
        "\n",
        "\n"
      ],
      "execution_count": 0,
      "outputs": [
        {
          "output_type": "stream",
          "text": [
            "Enter prime no 1:3\n",
            "Enter prime no 2:7\n",
            "Public key for encryption 5\n",
            "Public key for decryption 5\n",
            "Enter message:13\n",
            "Cipher after encryption: 13\n",
            "Orig message after decrytpion: 13\n"
          ],
          "name": "stdout"
        }
      ]
    },
    {
      "metadata": {
        "id": "tK_1nDJwyDc6",
        "colab_type": "code",
        "outputId": "a80bdc0d-f4db-4e2e-aa0f-b8c64b292ed5",
        "cellView": "code",
        "colab": {
          "base_uri": "https://localhost:8080/",
          "height": 289
        }
      },
      "cell_type": "code",
      "source": [
        "#@title PlayFair\n",
        "key = input(\"Enter the key without spaces:\") + ''.join([chr(ch+ord('a')) for ch in range(26) ])\n",
        "key = key.replace('j','i')\n",
        "used = \"\"\n",
        "pm = []\n",
        "for ch in key:\n",
        "\tif ch not in used:\n",
        "\t\tpm.append(ch)\n",
        "\t\tused+=ch\n",
        "pm = [ pm[i:i+5] for i in range(0,25,5) ] \n",
        "print(\"\\nPlayFair Matrix:\")\n",
        "print(*pm,sep='\\n')\n",
        "\n",
        "def encrypt(s):\n",
        "\tpos = [[i,j] for i in range(5) for j in range(5) if s[0] in pm[i][j] ] \n",
        "\tx1,y1 = pos[0][0],pos[0][1]\n",
        "\tpos = [[i,j] for i in range(5) for j in range(5) if s[1] in pm[i][j]  ] \n",
        "\tx2,y2 = pos[0][0],pos[0][1]\n",
        "\tif x1 == x2 : \n",
        "\t\treturn pm[x1][(y1+1)%5]+pm[x2][(y2+1)%5]\n",
        "\tif y1 == y2 : \n",
        "\t\treturn pm[(x1+1)%5][y1]+pm[(x2+1)%5][y2]\n",
        "\treturn pm[x1][y2] + pm[x2][y1]\n",
        "\n",
        "pt = input(\"\\nEnter the plaintext:\")\n",
        "pt = pt.replace('j','i')\n",
        "for ch in \", ;.\":\n",
        "\tpt = pt.replace(ch,'')\n",
        "l = len(pt)\n",
        "i=0\n",
        "while i < (l-1) : \n",
        "\tif pt[i] == pt[i+1] : \n",
        "\t\tpt = pt[:i+1] + 'x' + pt[i+1:]\n",
        "\t\tl+=1\n",
        "\ti+=2\n",
        "if l%2:\n",
        "\tpt+='x'\n",
        "\tl+=1\n",
        "paired_pt = \" \".join([pt[i:i+2] for i in range(0,l,2) ])\n",
        "print(\"\\nPlaintext in paired form:\",paired_pt)\n",
        "cipher = \"\"\n",
        "\n",
        "for i in range(0,l,2):\n",
        "\tcipher+=encrypt(pt[i]+pt[i+1])\n",
        "\n",
        "print(\"\\nEncrypted text:\",cipher)\n",
        "\n",
        "'''\n",
        "Sample Input:\n",
        "\n",
        "Enter the key without spaces:another\n",
        "\n",
        "PlayFair Matrix:\n",
        "['a', 'n', 'o', 't', 'h']\n",
        "['e', 'r', 'b', 'c', 'd']\n",
        "['f', 'g', 'i', 'k', 'l']\n",
        "['m', 'p', 'q', 's', 'u']\n",
        "['v', 'w', 'x', 'y', 'z']\n",
        "\n",
        "Enter the plaintext:we live in a world full of beauty\n",
        "\n",
        "Plaintext in paired form: we li ve in aw or ld fu lx lo fb ea ut yx\n",
        "\n",
        "Encrypted text: vrfkafgonvnbullmizihiefeshzy\n",
        "'''\n",
        "\n",
        "\n"
      ],
      "execution_count": 0,
      "outputs": [
        {
          "output_type": "stream",
          "text": [
            "Enter the key without spaces:another\n",
            "\n",
            "PlayFair Matrix:\n",
            "['a', 'n', 'o', 't', 'h']\n",
            "['e', 'r', 'b', 'c', 'd']\n",
            "['f', 'g', 'i', 'k', 'l']\n",
            "['m', 'p', 'q', 's', 'u']\n",
            "['v', 'w', 'x', 'y', 'z']\n",
            "\n",
            "Enter the plaintext:we live in a world full of beauty\n",
            "\n",
            "Plaintext in paired form: we li ve in aw or ld fu lx lo fb ea ut yx\n",
            "\n",
            "Encrypted text: vrfkafgonvnbullmizihiefeshzy\n"
          ],
          "name": "stdout"
        },
        {
          "output_type": "execute_result",
          "data": {
            "text/plain": [
              "\"\\nSample Input:\\n\\nEnter the key without spaces:another\\n\\nPlayFair Matrix:\\n['a', 'n', 'o', 't', 'h']\\n['e', 'r', 'b', 'c', 'd']\\n['f', 'g', 'i', 'k', 'l']\\n['m', 'p', 'q', 's', 'u']\\n['v', 'w', 'x', 'y', 'z']\\n\\nEnter the plaintext:we live in a world full of beauty\\n\\nPlaintext in paired form: we li ve in aw or ld fu lx lo fb ea ut yx\\n\\nEncrypted text: vrfkafgonvnbullmizihiefeshzy\\n\""
            ]
          },
          "metadata": {
            "tags": []
          },
          "execution_count": 23
        }
      ]
    },
    {
      "metadata": {
        "id": "Oi-CF_GA0ie7",
        "colab_type": "code",
        "outputId": "829ae759-47e1-40e7-c290-11996f366921",
        "cellView": "code",
        "colab": {
          "base_uri": "https://localhost:8080/",
          "height": 67
        }
      },
      "cell_type": "code",
      "source": [
        "#@title SDES\n",
        "plainText =  \"01110010\"\n",
        "key =  \"1010000010\"\n",
        "pc1 = [3,5,2,7,4,10,1,9,8,6]   \n",
        "pc2 = [6,3,7,4,8,5,10,9] \n",
        "k1  = \"\"\n",
        "k2  = \"\"\n",
        "ip  = [2,6,3,1,4,8,5,7]\n",
        "et  = [4,1,2,3,2,3,4,1]\n",
        "inverseip = [4,1,3,5,7,2,8,6]\n",
        "ptable = [2,4,3,1]\n",
        "sbox0 = [\n",
        "\t\t\t[ \"01\", \"00\", \"11\", \"10\" ],\n",
        "\t\t\t[ \"11\", \"10\", \"01\", \"00\" ],\n",
        "\t\t\t[ \"00\", \"10\", \"01\", \"11\" ],\n",
        "\t\t\t[ \"11\", \"01\", \"11\", \"10\" ]\n",
        "\t\t]\n",
        "sbox1 = [\n",
        "\t\t\t[ \"00\", \"01\", \"10\", \"11\" ],\n",
        "\t\t\t[ \"10\", \"00\", \"01\", \"11\" ],\n",
        "\t\t\t[ \"11\", \"00\", \"01\", \"00\" ],\n",
        "\t\t\t[ \"10\", \"00\", \"00\", \"11\" ]\n",
        "\t\t]\n",
        "\n",
        "def apply_transpose(message,table):\n",
        "\treturn ''.join([ message[ table[i]-1 ] for i in range(len(table)) ])\n",
        "\t\n",
        "def xor(l,r):\n",
        "\treturn ''.join(['1' if l[i]!=r[i] else '0' for i in range(len(l))])\n",
        "\n",
        "def lcr(m,times):  \n",
        "\tfor time in range(times):\n",
        "\t\tm = m[1:] + m[:1]\n",
        "\treturn m \n",
        "\t\n",
        "def gen_subkeys():\n",
        "\tglobal key,k1,k2\n",
        "\tprint(\"orig key\",key)\n",
        "\tkey = apply_transpose(key,pc1)\n",
        "#\tprint(\"k+ \",key)\n",
        "\tc0,d0 = key[0:5],key[5:]\t\n",
        "#\tprint(\"c0 d0\",c0,d0)\n",
        "\tc1,d1 = lcr(c0,1),lcr(d0,1)\n",
        "\tk1    = apply_transpose(c1+d1,pc2)\n",
        "\tc2,d2 = lcr(c1,2),lcr(d1,2)\n",
        "\tk2 \t  = apply_transpose(c2+d2,pc2)\t\n",
        "\n",
        "def apply_sbox(m,sbox):\n",
        "\trowIndex =  int(m[0]+m[-1],2)\n",
        "\tcolIndex =  int(m[1]+m[2],2)\n",
        "\treturn sbox[rowIndex][colIndex]\n",
        "\t\n",
        "def f(r,k):\n",
        "\ter = apply_transpose(r,et)\n",
        "#\tprint(\"expanded r1\",er)\n",
        "\tb0,b1 = xor(er,k)[0:4] , xor(er,k)[4:] \t\n",
        "#\tprint(\"b0 b1\",b0,b1)\n",
        "\tresult = apply_sbox(b0,sbox0) + apply_sbox(b1,sbox1)\n",
        "\treturn apply_transpose(result,ptable)\n",
        "\t\n",
        "def algo(): \n",
        "\tpermuted_text = apply_transpose(plainText,ip) \n",
        "#\tprint(permuted_text)\n",
        "\tgen_subkeys()\n",
        "\tprint(\"Subekys:\",k1,k2)\n",
        "\tl0,r0 = permuted_text[:4],permuted_text[4:] \n",
        "\t#print(\"l0 r0\",l0,r0)\n",
        "\tl1,r1 = r0, xor(l0, f(r0,k1) ) \n",
        "\t#print(\"l1 r1\",l1,r1)\n",
        "\tl2,r2 = r1, xor(l1, f(r1,k2) )\n",
        "\tl2,r2 = r2,l2 \n",
        "\tcipher = apply_transpose(l2+r2,inverseip)\n",
        "\tprint(\"cipher\",cipher)\n",
        "algo()\n",
        "\n"
      ],
      "execution_count": 0,
      "outputs": [
        {
          "output_type": "stream",
          "text": [
            "orig key 1010000010\n",
            "Subekys: 10100100 01000011\n",
            "cipher 01110111\n"
          ],
          "name": "stdout"
        }
      ]
    },
    {
      "metadata": {
        "id": "2TKlXQ9a00yz",
        "colab_type": "code",
        "outputId": "1f259682-1565-493a-ff46-c59cca18e447",
        "cellView": "code",
        "colab": {
          "base_uri": "https://localhost:8080/",
          "height": 67
        }
      },
      "cell_type": "code",
      "source": [
        "#@title implementation of S-AES \n",
        "\n",
        "sbox = { \n",
        "\t\t \"0000\" : \"1001\" , \"0001\" : \"0100\" , \"0010\" : \"1010\" , \"0011\" : \"1011\" ,\n",
        "\t\t \"0100\" : \"1101\" , \"0101\" : \"0001\" , \"0110\" : \"1000\" , \"0111\" : \"0101\" ,\t\n",
        "\t\t \"1000\" : \"0110\" , \"1001\" : \"0010\" , \"1010\" : \"0000\" , \"1011\" : \"0011\" ,\t\t \n",
        "\t\t \"1100\" : \"1100\" , \"1101\" : \"1110\" , \"1110\" : \"1111\" , \"1111\" : \"0111\" \n",
        "\t   }\n",
        "\n",
        "key0 = \"0100101011110101\"\n",
        "key1 = \"\"\n",
        "key2 = \"\"\n",
        "pt   = \"1101011100101000\"\n",
        "roundConstant = [\"\",\"10000000\",\"00110000\"]\n",
        "\n",
        "def applysbox(b):\n",
        "\treturn sbox[b]\n",
        "\n",
        "def xor(l,r):\n",
        "\treturn ''.join(['1' if l[i]!=r[i] else '0' for i in range(len(l))])\n",
        "\n",
        "def g(w,rnd):\n",
        "\tw = w[4:] + w[:4]\t\t\t\t\t    #circular shift\n",
        "\tw = applysbox(w[:4]) + applysbox(w[4:]) #byte substitution\n",
        "\tw = xor(w,roundConstant[rnd])\n",
        "\treturn w \n",
        "\n",
        "def gen_keys():\n",
        "\tglobal key0,key1,key2\n",
        "\tw0,w1 = key0[:8] , key0[8:]\n",
        "\tw2 = xor(w0,g(w1,1))\t\n",
        "\tw3 = xor(w2,w1)\n",
        "\tkey1 = w2+w3 \n",
        "\tprint(\"key1 \",key1)\n",
        "\t\n",
        "\tw4 = xor(w2,g(w3,2))\n",
        "\tw5 = xor(w4,w3)\n",
        "\tkey2 = w4+w5\n",
        "\tprint(\"key2 \",key2)\n",
        "\n",
        "def cross(b1,b2):\n",
        "\t#4th row of GF24 lookup table\n",
        "\tlt = [\"0000\",\"0100\",\"1000\",\"1100\",\"0011\",\"0111\",\"1011\",\"1111\",\"0110\",\"0010\",\"1110\",\"1010\",\"0101\",\"0001\",\"1101\",\"1001\"] \n",
        "\tif b2 == 1:\n",
        "\t\treturn b1 \n",
        "\tif b2 == 4:\n",
        "\t\treturn lt[int(b1,2)]\n",
        "\n",
        "def mixcol(it, gf):\n",
        "\treturn [ [ xor(cross(it[0][i],gf[j][0]),cross(it[1][i],gf[j][1])) for i in range(2) ] for j in range(2) ] \n",
        "\n",
        "def bytesubstitution(b):\n",
        "\treturn ''.join( [applysbox(b[i:i+4]) for i in range(0,16,4) ] ) \n",
        "\n",
        "def algo():\n",
        "\tit = xor(pt,key0) # Initial Transformation\n",
        "\t\n",
        "\t#Round1 \n",
        "\tit = bytesubstitution(it)\n",
        "\titMat = [ \n",
        "\t\t\t  [it[:4], it[8:12] ],\n",
        "\t\t\t  [it[4:8], it[12:] ]\n",
        "\t\t\t]\n",
        "\t\n",
        "\t#RowShift\n",
        "\titMat[0] = itMat[0]\t\t\t#Row1 unchanged \n",
        "\titMat[1] = [itMat[1][1],itMat[1][0]]   #Row2 byte shifted by 1\n",
        "\t\n",
        "\t#MixColumn\n",
        "\tgfMat = [\n",
        "\t\t\t\t[1,4],\n",
        "\t\t\t\t[4,1]  \n",
        "\t\t\t] \n",
        "\t#print(itMat)\t\t\n",
        "\tmixedCol = mixcol(itMat, gfMat) \n",
        "\t#print(mixedCol)\n",
        "\t\n",
        "\tround1op = xor(mixedCol[0][0]+mixedCol[1][0]+mixedCol[0][1]+mixedCol[1][1],key1)\n",
        "\t\n",
        "\t#round2 begins\n",
        "\t\n",
        "\tround1op = bytesubstitution(round1op)\n",
        "\tround1Mat = [ \n",
        "\t\t\t  [round1op[:4], round1op[8:12] ],\n",
        "\t\t\t  [round1op[4:8], round1op[12:] ]\n",
        "\t\t\t]\n",
        "\t\n",
        "\t#RowShift\n",
        "\tround1Mat[0] = round1Mat[0]\t\t\t#Row1 unchanged \n",
        "\tround1Mat[1] = [round1Mat[1][1],round1Mat[1][0]]   #Row2 byte shifted by 1\n",
        "\t\n",
        "\tcipherText = xor(round1Mat[0][0]+round1Mat[1][0]+round1Mat[0][1]+round1Mat[1][1],key2)\n",
        "\tprint(\"cipher text\",cipherText)\t\t\n",
        "gen_keys()\t\t\t\n",
        "algo()\t\t\n",
        "\t\t\t\n",
        "\t\t\t\n"
      ],
      "execution_count": 0,
      "outputs": [
        {
          "output_type": "stream",
          "text": [
            "key1  1101110100101000\n",
            "key2  1000011110101111\n",
            "cipher text 0010010011101100\n"
          ],
          "name": "stdout"
        }
      ]
    }
  ]
}